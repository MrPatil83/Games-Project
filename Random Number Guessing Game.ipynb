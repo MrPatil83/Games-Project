{
 "cells": [
  {
   "cell_type": "code",
   "execution_count": null,
   "metadata": {},
   "outputs": [],
   "source": [
    "import random\n",
    "Cnumber=random.randrange(1,100)\n",
    "UserNumber=int(input(\"Enter Your Number:---\"))\n",
    "if UserNumber>Cnumber:\n",
    "    print(\"Comuter Number\",Cnumber)\n",
    "    print(\"Your guess number is too high\")\n",
    "elif Cnumber>UserNumber:\n",
    "    print(\"Comuter Number\",Cnumber)\n",
    "    print(\"your guess number is too low\")\n",
    "else:\n",
    "    print(\"Comuter Number\",Cnumber)\n",
    "    print(\"Your guess number is equal\")\n",
    "    print(\"You Win\")\n"
   ]
  }
 ],
 "metadata": {
  "kernelspec": {
   "display_name": "Python 3",
   "language": "python",
   "name": "python3"
  },
  "language_info": {
   "codemirror_mode": {
    "name": "ipython",
    "version": 3
   },
   "file_extension": ".py",
   "mimetype": "text/x-python",
   "name": "python",
   "nbconvert_exporter": "python",
   "pygments_lexer": "ipython3",
   "version": "3.11.6"
  }
 },
 "nbformat": 4,
 "nbformat_minor": 2
}
